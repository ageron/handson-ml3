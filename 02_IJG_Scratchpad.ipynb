{
 "cells": [
  {
   "cell_type": "code",
   "execution_count": 125,
   "id": "ed8f0df9-2c40-463b-bf06-131dd6d0f451",
   "metadata": {},
   "outputs": [],
   "source": [
    "import sklearn\n",
    "import pandas as pd\n",
    "import numpy as np\n",
    "import matplotlib.pyplot as plt"
   ]
  },
  {
   "cell_type": "code",
   "execution_count": 104,
   "id": "a69d827d-0f7c-4a4d-8bfe-46955aa71249",
   "metadata": {},
   "outputs": [
    {
     "data": {
      "text/html": [
       "<div>\n",
       "<style scoped>\n",
       "    .dataframe tbody tr th:only-of-type {\n",
       "        vertical-align: middle;\n",
       "    }\n",
       "\n",
       "    .dataframe tbody tr th {\n",
       "        vertical-align: top;\n",
       "    }\n",
       "\n",
       "    .dataframe thead th {\n",
       "        text-align: right;\n",
       "    }\n",
       "</style>\n",
       "<table border=\"1\" class=\"dataframe\">\n",
       "  <thead>\n",
       "    <tr style=\"text-align: right;\">\n",
       "      <th></th>\n",
       "      <th>IDx</th>\n",
       "      <th>LetCat</th>\n",
       "      <th>Mrk</th>\n",
       "      <th>Z</th>\n",
       "    </tr>\n",
       "  </thead>\n",
       "  <tbody>\n",
       "    <tr>\n",
       "      <th>0</th>\n",
       "      <td>12</td>\n",
       "      <td>A</td>\n",
       "      <td>99</td>\n",
       "      <td>ZA</td>\n",
       "    </tr>\n",
       "    <tr>\n",
       "      <th>1</th>\n",
       "      <td>15</td>\n",
       "      <td>B</td>\n",
       "      <td>98</td>\n",
       "      <td>ZB</td>\n",
       "    </tr>\n",
       "    <tr>\n",
       "      <th>2</th>\n",
       "      <td>18</td>\n",
       "      <td>B</td>\n",
       "      <td>97</td>\n",
       "      <td>ZA</td>\n",
       "    </tr>\n",
       "    <tr>\n",
       "      <th>3</th>\n",
       "      <td>21</td>\n",
       "      <td>A</td>\n",
       "      <td>96</td>\n",
       "      <td>ZC</td>\n",
       "    </tr>\n",
       "    <tr>\n",
       "      <th>4</th>\n",
       "      <td>24</td>\n",
       "      <td>C</td>\n",
       "      <td>95</td>\n",
       "      <td>ZA</td>\n",
       "    </tr>\n",
       "    <tr>\n",
       "      <th>5</th>\n",
       "      <td>27</td>\n",
       "      <td>C</td>\n",
       "      <td>94</td>\n",
       "      <td>ZD</td>\n",
       "    </tr>\n",
       "    <tr>\n",
       "      <th>6</th>\n",
       "      <td>30</td>\n",
       "      <td>D</td>\n",
       "      <td>93</td>\n",
       "      <td>ZA</td>\n",
       "    </tr>\n",
       "  </tbody>\n",
       "</table>\n",
       "</div>"
      ],
      "text/plain": [
       "   IDx LetCat  Mrk   Z\n",
       "0   12      A   99  ZA\n",
       "1   15      B   98  ZB\n",
       "2   18      B   97  ZA\n",
       "3   21      A   96  ZC\n",
       "4   24      C   95  ZA\n",
       "5   27      C   94  ZD\n",
       "6   30      D   93  ZA"
      ]
     },
     "execution_count": 104,
     "metadata": {},
     "output_type": "execute_result"
    }
   ],
   "source": [
    "# create a dataframe with two column, one being a category\n",
    "data = [  (12,'A', 99, 'ZA')\n",
    "        , (15,'B', 98, 'ZB')\n",
    "        , (18,'B', 97, 'ZA')\n",
    "        , (21,'A', 96, 'ZC')\n",
    "        , (24,'C', 95, 'ZA')\n",
    "        , (27,'C', 94, 'ZD')\n",
    "        , (30,'D', 93, 'ZA')\n",
    "       ]\n",
    "\n",
    "cols = ['IDx','LetCat','Mrk','Z']\n",
    "dfdata = pd.DataFrame(data, columns = cols)\n",
    "dfdata\n"
   ]
  },
  {
   "cell_type": "markdown",
   "id": "00176d42-f28a-4454-bc2c-09ad6c290560",
   "metadata": {},
   "source": [
    "# Categorizations"
   ]
  },
  {
   "cell_type": "code",
   "execution_count": 27,
   "id": "6888170c-26e1-4148-97e0-5d8dea07cd22",
   "metadata": {},
   "outputs": [
    {
     "data": {
      "text/html": [
       "<div>\n",
       "<style scoped>\n",
       "    .dataframe tbody tr th:only-of-type {\n",
       "        vertical-align: middle;\n",
       "    }\n",
       "\n",
       "    .dataframe tbody tr th {\n",
       "        vertical-align: top;\n",
       "    }\n",
       "\n",
       "    .dataframe thead th {\n",
       "        text-align: right;\n",
       "    }\n",
       "</style>\n",
       "<table border=\"1\" class=\"dataframe\">\n",
       "  <thead>\n",
       "    <tr style=\"text-align: right;\">\n",
       "      <th></th>\n",
       "      <th>A</th>\n",
       "      <th>B</th>\n",
       "      <th>C</th>\n",
       "      <th>D</th>\n",
       "    </tr>\n",
       "  </thead>\n",
       "  <tbody>\n",
       "    <tr>\n",
       "      <th>0</th>\n",
       "      <td>True</td>\n",
       "      <td>False</td>\n",
       "      <td>False</td>\n",
       "      <td>False</td>\n",
       "    </tr>\n",
       "    <tr>\n",
       "      <th>1</th>\n",
       "      <td>False</td>\n",
       "      <td>True</td>\n",
       "      <td>False</td>\n",
       "      <td>False</td>\n",
       "    </tr>\n",
       "    <tr>\n",
       "      <th>2</th>\n",
       "      <td>False</td>\n",
       "      <td>True</td>\n",
       "      <td>False</td>\n",
       "      <td>False</td>\n",
       "    </tr>\n",
       "    <tr>\n",
       "      <th>3</th>\n",
       "      <td>True</td>\n",
       "      <td>False</td>\n",
       "      <td>False</td>\n",
       "      <td>False</td>\n",
       "    </tr>\n",
       "    <tr>\n",
       "      <th>4</th>\n",
       "      <td>False</td>\n",
       "      <td>False</td>\n",
       "      <td>True</td>\n",
       "      <td>False</td>\n",
       "    </tr>\n",
       "    <tr>\n",
       "      <th>5</th>\n",
       "      <td>False</td>\n",
       "      <td>False</td>\n",
       "      <td>True</td>\n",
       "      <td>False</td>\n",
       "    </tr>\n",
       "    <tr>\n",
       "      <th>6</th>\n",
       "      <td>False</td>\n",
       "      <td>False</td>\n",
       "      <td>False</td>\n",
       "      <td>True</td>\n",
       "    </tr>\n",
       "  </tbody>\n",
       "</table>\n",
       "</div>"
      ],
      "text/plain": [
       "       A      B      C      D\n",
       "0   True  False  False  False\n",
       "1  False   True  False  False\n",
       "2  False   True  False  False\n",
       "3   True  False  False  False\n",
       "4  False  False   True  False\n",
       "5  False  False   True  False\n",
       "6  False  False  False   True"
      ]
     },
     "execution_count": 27,
     "metadata": {},
     "output_type": "execute_result"
    }
   ],
   "source": [
    "pd.get_dummies(dfdata.LetCat)"
   ]
  },
  {
   "cell_type": "code",
   "execution_count": 74,
   "id": "83e553c6-9aa4-44e6-9f8e-aadeb099fe2c",
   "metadata": {},
   "outputs": [],
   "source": [
    "from sklearn.preprocessing import OrdinalEncoder\n",
    "\n",
    "ordinal_encoder = OrdinalEncoder()\n",
    "encoded_data = ordinal_encoder.fit_transform(dfdata)"
   ]
  },
  {
   "cell_type": "code",
   "execution_count": 75,
   "id": "2c5d8b56-4c04-422d-a62f-f8dfc4bf2adc",
   "metadata": {},
   "outputs": [
    {
     "data": {
      "text/plain": [
       "array([[0., 0., 7., 0.],\n",
       "       [1., 1., 6., 1.],\n",
       "       [2., 1., 5., 0.],\n",
       "       [3., 0., 4., 2.],\n",
       "       [4., 2., 3., 0.],\n",
       "       [5., 2., 2., 3.],\n",
       "       [6., 3., 1., 0.],\n",
       "       [7., 4., 0., 4.]])"
      ]
     },
     "execution_count": 75,
     "metadata": {},
     "output_type": "execute_result"
    }
   ],
   "source": [
    "encoded_data"
   ]
  },
  {
   "cell_type": "code",
   "execution_count": 41,
   "id": "68fa892f-4dd7-4909-aaae-d495b4af8c6d",
   "metadata": {},
   "outputs": [
    {
     "data": {
      "text/plain": [
       "[array([12, 15, 18, 21, 24, 27, 30]),\n",
       " array(['A', 'B', 'C', 'D'], dtype=object),\n",
       " array([93, 94, 95, 96, 97, 98, 99]),\n",
       " array(['ZA', 'ZB', 'ZC', 'ZD'], dtype=object)]"
      ]
     },
     "execution_count": 41,
     "metadata": {},
     "output_type": "execute_result"
    }
   ],
   "source": [
    "ordinal_encoder.categories_"
   ]
  },
  {
   "cell_type": "code",
   "execution_count": 94,
   "id": "dd82e5b0-293d-47e1-812f-ae664fc8b680",
   "metadata": {},
   "outputs": [],
   "source": [
    "from sklearn.preprocessing import OneHotEncoder\n",
    "\n",
    "cat_encoder = OneHotEncoder(sparse_output=False)\n",
    "encoded1hot_data = cat_encoder.fit_transform(dfdata[['LetCat']])\n",
    "encoded1hot_data = cat_encoder.fit_transform(dfdata[['LetCat','Z']])\n",
    "#encoded1hot_data = cat_encoder.fit_transform(dfdata)"
   ]
  },
  {
   "cell_type": "code",
   "execution_count": 95,
   "id": "759a6bbc-d071-4f8d-b6d8-6d2d12cee1a1",
   "metadata": {},
   "outputs": [
    {
     "data": {
      "text/plain": [
       "array([[1., 0., 0., 0., 0., 1., 0., 0., 0., 0.],\n",
       "       [0., 1., 0., 0., 0., 0., 1., 0., 0., 0.],\n",
       "       [0., 1., 0., 0., 0., 1., 0., 0., 0., 0.],\n",
       "       [1., 0., 0., 0., 0., 0., 0., 1., 0., 0.],\n",
       "       [0., 0., 1., 0., 0., 1., 0., 0., 0., 0.],\n",
       "       [0., 0., 1., 0., 0., 0., 0., 0., 1., 0.],\n",
       "       [0., 0., 0., 1., 0., 1., 0., 0., 0., 0.],\n",
       "       [0., 0., 0., 0., 1., 0., 0., 0., 0., 1.]])"
      ]
     },
     "execution_count": 95,
     "metadata": {},
     "output_type": "execute_result"
    }
   ],
   "source": [
    "encoded1hot_data"
   ]
  },
  {
   "cell_type": "code",
   "execution_count": 96,
   "id": "a662a492-dcdf-40b7-a62b-2cabe0162320",
   "metadata": {},
   "outputs": [
    {
     "data": {
      "text/plain": [
       "[array(['A', 'B', 'C', 'D', 'E'], dtype=object),\n",
       " array(['ZA', 'ZB', 'ZC', 'ZD', 'ZE'], dtype=object)]"
      ]
     },
     "execution_count": 96,
     "metadata": {},
     "output_type": "execute_result"
    }
   ],
   "source": [
    "cat_encoder.categories_"
   ]
  },
  {
   "cell_type": "code",
   "execution_count": 97,
   "id": "9a39cff6-0188-4a28-b2ab-a8b7d8a37c74",
   "metadata": {},
   "outputs": [
    {
     "data": {
      "text/plain": [
       "array(['LetCat', 'Z'], dtype=object)"
      ]
     },
     "execution_count": 97,
     "metadata": {},
     "output_type": "execute_result"
    }
   ],
   "source": [
    "cat_encoder.feature_names_in_"
   ]
  },
  {
   "cell_type": "code",
   "execution_count": 105,
   "id": "113e26af-b9e8-4b68-b8ba-933f2bfd1df8",
   "metadata": {},
   "outputs": [
    {
     "data": {
      "text/html": [
       "<div>\n",
       "<style scoped>\n",
       "    .dataframe tbody tr th:only-of-type {\n",
       "        vertical-align: middle;\n",
       "    }\n",
       "\n",
       "    .dataframe tbody tr th {\n",
       "        vertical-align: top;\n",
       "    }\n",
       "\n",
       "    .dataframe thead th {\n",
       "        text-align: right;\n",
       "    }\n",
       "</style>\n",
       "<table border=\"1\" class=\"dataframe\">\n",
       "  <thead>\n",
       "    <tr style=\"text-align: right;\">\n",
       "      <th></th>\n",
       "      <th>A</th>\n",
       "      <th>B</th>\n",
       "      <th>C</th>\n",
       "      <th>D</th>\n",
       "      <th>E</th>\n",
       "    </tr>\n",
       "  </thead>\n",
       "  <tbody>\n",
       "    <tr>\n",
       "      <th>0</th>\n",
       "      <td>True</td>\n",
       "      <td>False</td>\n",
       "      <td>False</td>\n",
       "      <td>False</td>\n",
       "      <td>False</td>\n",
       "    </tr>\n",
       "    <tr>\n",
       "      <th>1</th>\n",
       "      <td>False</td>\n",
       "      <td>True</td>\n",
       "      <td>False</td>\n",
       "      <td>False</td>\n",
       "      <td>False</td>\n",
       "    </tr>\n",
       "    <tr>\n",
       "      <th>2</th>\n",
       "      <td>False</td>\n",
       "      <td>True</td>\n",
       "      <td>False</td>\n",
       "      <td>False</td>\n",
       "      <td>False</td>\n",
       "    </tr>\n",
       "    <tr>\n",
       "      <th>3</th>\n",
       "      <td>True</td>\n",
       "      <td>False</td>\n",
       "      <td>False</td>\n",
       "      <td>False</td>\n",
       "      <td>False</td>\n",
       "    </tr>\n",
       "    <tr>\n",
       "      <th>4</th>\n",
       "      <td>False</td>\n",
       "      <td>False</td>\n",
       "      <td>True</td>\n",
       "      <td>False</td>\n",
       "      <td>False</td>\n",
       "    </tr>\n",
       "    <tr>\n",
       "      <th>5</th>\n",
       "      <td>False</td>\n",
       "      <td>False</td>\n",
       "      <td>True</td>\n",
       "      <td>False</td>\n",
       "      <td>False</td>\n",
       "    </tr>\n",
       "    <tr>\n",
       "      <th>6</th>\n",
       "      <td>False</td>\n",
       "      <td>False</td>\n",
       "      <td>False</td>\n",
       "      <td>True</td>\n",
       "      <td>False</td>\n",
       "    </tr>\n",
       "    <tr>\n",
       "      <th>7</th>\n",
       "      <td>False</td>\n",
       "      <td>False</td>\n",
       "      <td>False</td>\n",
       "      <td>False</td>\n",
       "      <td>True</td>\n",
       "    </tr>\n",
       "  </tbody>\n",
       "</table>\n",
       "</div>"
      ],
      "text/plain": [
       "       A      B      C      D      E\n",
       "0   True  False  False  False  False\n",
       "1  False   True  False  False  False\n",
       "2  False   True  False  False  False\n",
       "3   True  False  False  False  False\n",
       "4  False  False   True  False  False\n",
       "5  False  False   True  False  False\n",
       "6  False  False  False   True  False\n",
       "7  False  False  False  False   True"
      ]
     },
     "execution_count": 105,
     "metadata": {},
     "output_type": "execute_result"
    }
   ],
   "source": [
    "newrow = [33,'E', 92, 'ZE']\n",
    "dfdata.loc[7] = newrow\n",
    "pd.get_dummies(dfdata.LetCat)"
   ]
  },
  {
   "cell_type": "code",
   "execution_count": 99,
   "id": "ae30b8cd-a77d-4ab6-bf47-a9e390064042",
   "metadata": {},
   "outputs": [
    {
     "data": {
      "text/plain": [
       "array([[1., 0., 0., 0., 0., 1., 0., 0., 0., 0.],\n",
       "       [0., 1., 0., 0., 0., 0., 1., 0., 0., 0.],\n",
       "       [0., 1., 0., 0., 0., 1., 0., 0., 0., 0.],\n",
       "       [1., 0., 0., 0., 0., 0., 0., 1., 0., 0.],\n",
       "       [0., 0., 1., 0., 0., 1., 0., 0., 0., 0.],\n",
       "       [0., 0., 1., 0., 0., 0., 0., 0., 1., 0.],\n",
       "       [0., 0., 0., 1., 0., 1., 0., 0., 0., 0.],\n",
       "       [0., 0., 0., 0., 1., 0., 0., 0., 0., 1.]])"
      ]
     },
     "execution_count": 99,
     "metadata": {},
     "output_type": "execute_result"
    }
   ],
   "source": [
    "cat_encoder.handle_unknown = \"ignore\"\n",
    "cat_encoder.transform(dfdata[['LetCat','Z']])\n",
    "#cat_encoder.transform(dfdata)"
   ]
  },
  {
   "cell_type": "code",
   "execution_count": 100,
   "id": "114533f7-23ff-4cba-a562-8f6570ff14ec",
   "metadata": {},
   "outputs": [
    {
     "data": {
      "text/plain": [
       "array(['LetCat_A', 'LetCat_B', 'LetCat_C', 'LetCat_D', 'LetCat_E', 'Z_ZA',\n",
       "       'Z_ZB', 'Z_ZC', 'Z_ZD', 'Z_ZE'], dtype=object)"
      ]
     },
     "execution_count": 100,
     "metadata": {},
     "output_type": "execute_result"
    }
   ],
   "source": [
    "cat_encoder.get_feature_names_out()"
   ]
  },
  {
   "cell_type": "code",
   "execution_count": 101,
   "id": "2ed716e3-c792-4712-a1a8-9588a5a677bc",
   "metadata": {},
   "outputs": [
    {
     "data": {
      "text/html": [
       "<div>\n",
       "<style scoped>\n",
       "    .dataframe tbody tr th:only-of-type {\n",
       "        vertical-align: middle;\n",
       "    }\n",
       "\n",
       "    .dataframe tbody tr th {\n",
       "        vertical-align: top;\n",
       "    }\n",
       "\n",
       "    .dataframe thead th {\n",
       "        text-align: right;\n",
       "    }\n",
       "</style>\n",
       "<table border=\"1\" class=\"dataframe\">\n",
       "  <thead>\n",
       "    <tr style=\"text-align: right;\">\n",
       "      <th></th>\n",
       "      <th>LetCat_A</th>\n",
       "      <th>LetCat_B</th>\n",
       "      <th>LetCat_C</th>\n",
       "      <th>LetCat_D</th>\n",
       "      <th>LetCat_E</th>\n",
       "      <th>Z_ZA</th>\n",
       "      <th>Z_ZB</th>\n",
       "      <th>Z_ZC</th>\n",
       "      <th>Z_ZD</th>\n",
       "      <th>Z_ZE</th>\n",
       "    </tr>\n",
       "  </thead>\n",
       "  <tbody>\n",
       "    <tr>\n",
       "      <th>0</th>\n",
       "      <td>1.0</td>\n",
       "      <td>0.0</td>\n",
       "      <td>0.0</td>\n",
       "      <td>0.0</td>\n",
       "      <td>0.0</td>\n",
       "      <td>1.0</td>\n",
       "      <td>0.0</td>\n",
       "      <td>0.0</td>\n",
       "      <td>0.0</td>\n",
       "      <td>0.0</td>\n",
       "    </tr>\n",
       "    <tr>\n",
       "      <th>1</th>\n",
       "      <td>0.0</td>\n",
       "      <td>1.0</td>\n",
       "      <td>0.0</td>\n",
       "      <td>0.0</td>\n",
       "      <td>0.0</td>\n",
       "      <td>0.0</td>\n",
       "      <td>1.0</td>\n",
       "      <td>0.0</td>\n",
       "      <td>0.0</td>\n",
       "      <td>0.0</td>\n",
       "    </tr>\n",
       "    <tr>\n",
       "      <th>2</th>\n",
       "      <td>0.0</td>\n",
       "      <td>1.0</td>\n",
       "      <td>0.0</td>\n",
       "      <td>0.0</td>\n",
       "      <td>0.0</td>\n",
       "      <td>1.0</td>\n",
       "      <td>0.0</td>\n",
       "      <td>0.0</td>\n",
       "      <td>0.0</td>\n",
       "      <td>0.0</td>\n",
       "    </tr>\n",
       "    <tr>\n",
       "      <th>3</th>\n",
       "      <td>1.0</td>\n",
       "      <td>0.0</td>\n",
       "      <td>0.0</td>\n",
       "      <td>0.0</td>\n",
       "      <td>0.0</td>\n",
       "      <td>0.0</td>\n",
       "      <td>0.0</td>\n",
       "      <td>1.0</td>\n",
       "      <td>0.0</td>\n",
       "      <td>0.0</td>\n",
       "    </tr>\n",
       "    <tr>\n",
       "      <th>4</th>\n",
       "      <td>0.0</td>\n",
       "      <td>0.0</td>\n",
       "      <td>1.0</td>\n",
       "      <td>0.0</td>\n",
       "      <td>0.0</td>\n",
       "      <td>1.0</td>\n",
       "      <td>0.0</td>\n",
       "      <td>0.0</td>\n",
       "      <td>0.0</td>\n",
       "      <td>0.0</td>\n",
       "    </tr>\n",
       "    <tr>\n",
       "      <th>5</th>\n",
       "      <td>0.0</td>\n",
       "      <td>0.0</td>\n",
       "      <td>1.0</td>\n",
       "      <td>0.0</td>\n",
       "      <td>0.0</td>\n",
       "      <td>0.0</td>\n",
       "      <td>0.0</td>\n",
       "      <td>0.0</td>\n",
       "      <td>1.0</td>\n",
       "      <td>0.0</td>\n",
       "    </tr>\n",
       "    <tr>\n",
       "      <th>6</th>\n",
       "      <td>0.0</td>\n",
       "      <td>0.0</td>\n",
       "      <td>0.0</td>\n",
       "      <td>1.0</td>\n",
       "      <td>0.0</td>\n",
       "      <td>1.0</td>\n",
       "      <td>0.0</td>\n",
       "      <td>0.0</td>\n",
       "      <td>0.0</td>\n",
       "      <td>0.0</td>\n",
       "    </tr>\n",
       "    <tr>\n",
       "      <th>7</th>\n",
       "      <td>0.0</td>\n",
       "      <td>0.0</td>\n",
       "      <td>0.0</td>\n",
       "      <td>0.0</td>\n",
       "      <td>1.0</td>\n",
       "      <td>0.0</td>\n",
       "      <td>0.0</td>\n",
       "      <td>0.0</td>\n",
       "      <td>0.0</td>\n",
       "      <td>1.0</td>\n",
       "    </tr>\n",
       "  </tbody>\n",
       "</table>\n",
       "</div>"
      ],
      "text/plain": [
       "   LetCat_A  LetCat_B  LetCat_C  LetCat_D  LetCat_E  Z_ZA  Z_ZB  Z_ZC  Z_ZD  \\\n",
       "0       1.0       0.0       0.0       0.0       0.0   1.0   0.0   0.0   0.0   \n",
       "1       0.0       1.0       0.0       0.0       0.0   0.0   1.0   0.0   0.0   \n",
       "2       0.0       1.0       0.0       0.0       0.0   1.0   0.0   0.0   0.0   \n",
       "3       1.0       0.0       0.0       0.0       0.0   0.0   0.0   1.0   0.0   \n",
       "4       0.0       0.0       1.0       0.0       0.0   1.0   0.0   0.0   0.0   \n",
       "5       0.0       0.0       1.0       0.0       0.0   0.0   0.0   0.0   1.0   \n",
       "6       0.0       0.0       0.0       1.0       0.0   1.0   0.0   0.0   0.0   \n",
       "7       0.0       0.0       0.0       0.0       1.0   0.0   0.0   0.0   0.0   \n",
       "\n",
       "   Z_ZE  \n",
       "0   0.0  \n",
       "1   0.0  \n",
       "2   0.0  \n",
       "3   0.0  \n",
       "4   0.0  \n",
       "5   0.0  \n",
       "6   0.0  \n",
       "7   1.0  "
      ]
     },
     "execution_count": 101,
     "metadata": {},
     "output_type": "execute_result"
    }
   ],
   "source": [
    "#dfdata4training = pd.DataFrame(cat_encoder.transform(dfdata[['LetCat']]), columns=cat_encoder.get_feature_names_out(), index=dfdata.index)\n",
    "dfdata4training = pd.DataFrame(cat_encoder.transform(dfdata[['LetCat','Z']]), columns=cat_encoder.get_feature_names_out(), index=dfdata.index)\n",
    "#dfdata4training = pd.DataFrame(cat_encoder.transform(dfdata), columns=cat_encoder.get_feature_names_out(), index=dfdata.index)\n",
    "dfdata4training"
   ]
  },
  {
   "cell_type": "markdown",
   "id": "c1f5960d-6f8b-46c5-91fa-67f3fe260ad8",
   "metadata": {},
   "source": [
    "# Feature Scaling"
   ]
  },
  {
   "cell_type": "code",
   "execution_count": 107,
   "id": "e0caf02b-a830-4aa6-9a2b-00d99f209b0c",
   "metadata": {},
   "outputs": [
    {
     "data": {
      "text/html": [
       "<div>\n",
       "<style scoped>\n",
       "    .dataframe tbody tr th:only-of-type {\n",
       "        vertical-align: middle;\n",
       "    }\n",
       "\n",
       "    .dataframe tbody tr th {\n",
       "        vertical-align: top;\n",
       "    }\n",
       "\n",
       "    .dataframe thead th {\n",
       "        text-align: right;\n",
       "    }\n",
       "</style>\n",
       "<table border=\"1\" class=\"dataframe\">\n",
       "  <thead>\n",
       "    <tr style=\"text-align: right;\">\n",
       "      <th></th>\n",
       "      <th>IDx</th>\n",
       "      <th>Mrk</th>\n",
       "    </tr>\n",
       "  </thead>\n",
       "  <tbody>\n",
       "    <tr>\n",
       "      <th>count</th>\n",
       "      <td>8.000000</td>\n",
       "      <td>8.00000</td>\n",
       "    </tr>\n",
       "    <tr>\n",
       "      <th>mean</th>\n",
       "      <td>22.500000</td>\n",
       "      <td>95.50000</td>\n",
       "    </tr>\n",
       "    <tr>\n",
       "      <th>std</th>\n",
       "      <td>7.348469</td>\n",
       "      <td>2.44949</td>\n",
       "    </tr>\n",
       "    <tr>\n",
       "      <th>min</th>\n",
       "      <td>12.000000</td>\n",
       "      <td>92.00000</td>\n",
       "    </tr>\n",
       "    <tr>\n",
       "      <th>25%</th>\n",
       "      <td>17.250000</td>\n",
       "      <td>93.75000</td>\n",
       "    </tr>\n",
       "    <tr>\n",
       "      <th>50%</th>\n",
       "      <td>22.500000</td>\n",
       "      <td>95.50000</td>\n",
       "    </tr>\n",
       "    <tr>\n",
       "      <th>75%</th>\n",
       "      <td>27.750000</td>\n",
       "      <td>97.25000</td>\n",
       "    </tr>\n",
       "    <tr>\n",
       "      <th>max</th>\n",
       "      <td>33.000000</td>\n",
       "      <td>99.00000</td>\n",
       "    </tr>\n",
       "  </tbody>\n",
       "</table>\n",
       "</div>"
      ],
      "text/plain": [
       "             IDx       Mrk\n",
       "count   8.000000   8.00000\n",
       "mean   22.500000  95.50000\n",
       "std     7.348469   2.44949\n",
       "min    12.000000  92.00000\n",
       "25%    17.250000  93.75000\n",
       "50%    22.500000  95.50000\n",
       "75%    27.750000  97.25000\n",
       "max    33.000000  99.00000"
      ]
     },
     "execution_count": 107,
     "metadata": {},
     "output_type": "execute_result"
    }
   ],
   "source": [
    "dfdata.describe()"
   ]
  },
  {
   "cell_type": "code",
   "execution_count": 108,
   "id": "a360fe20-fdc6-48c9-99f9-a21f40bf953a",
   "metadata": {},
   "outputs": [
    {
     "data": {
      "text/html": [
       "<div>\n",
       "<style scoped>\n",
       "    .dataframe tbody tr th:only-of-type {\n",
       "        vertical-align: middle;\n",
       "    }\n",
       "\n",
       "    .dataframe tbody tr th {\n",
       "        vertical-align: top;\n",
       "    }\n",
       "\n",
       "    .dataframe thead th {\n",
       "        text-align: right;\n",
       "    }\n",
       "</style>\n",
       "<table border=\"1\" class=\"dataframe\">\n",
       "  <thead>\n",
       "    <tr style=\"text-align: right;\">\n",
       "      <th></th>\n",
       "      <th>IDx</th>\n",
       "      <th>LetCat</th>\n",
       "      <th>Mrk</th>\n",
       "      <th>Z</th>\n",
       "    </tr>\n",
       "  </thead>\n",
       "  <tbody>\n",
       "    <tr>\n",
       "      <th>0</th>\n",
       "      <td>12</td>\n",
       "      <td>A</td>\n",
       "      <td>99</td>\n",
       "      <td>ZA</td>\n",
       "    </tr>\n",
       "    <tr>\n",
       "      <th>1</th>\n",
       "      <td>15</td>\n",
       "      <td>B</td>\n",
       "      <td>98</td>\n",
       "      <td>ZB</td>\n",
       "    </tr>\n",
       "    <tr>\n",
       "      <th>2</th>\n",
       "      <td>18</td>\n",
       "      <td>B</td>\n",
       "      <td>97</td>\n",
       "      <td>ZA</td>\n",
       "    </tr>\n",
       "    <tr>\n",
       "      <th>3</th>\n",
       "      <td>21</td>\n",
       "      <td>A</td>\n",
       "      <td>96</td>\n",
       "      <td>ZC</td>\n",
       "    </tr>\n",
       "    <tr>\n",
       "      <th>4</th>\n",
       "      <td>24</td>\n",
       "      <td>C</td>\n",
       "      <td>95</td>\n",
       "      <td>ZA</td>\n",
       "    </tr>\n",
       "    <tr>\n",
       "      <th>5</th>\n",
       "      <td>27</td>\n",
       "      <td>C</td>\n",
       "      <td>94</td>\n",
       "      <td>ZD</td>\n",
       "    </tr>\n",
       "    <tr>\n",
       "      <th>6</th>\n",
       "      <td>30</td>\n",
       "      <td>D</td>\n",
       "      <td>93</td>\n",
       "      <td>ZA</td>\n",
       "    </tr>\n",
       "    <tr>\n",
       "      <th>7</th>\n",
       "      <td>33</td>\n",
       "      <td>E</td>\n",
       "      <td>92</td>\n",
       "      <td>ZE</td>\n",
       "    </tr>\n",
       "  </tbody>\n",
       "</table>\n",
       "</div>"
      ],
      "text/plain": [
       "   IDx LetCat  Mrk   Z\n",
       "0   12      A   99  ZA\n",
       "1   15      B   98  ZB\n",
       "2   18      B   97  ZA\n",
       "3   21      A   96  ZC\n",
       "4   24      C   95  ZA\n",
       "5   27      C   94  ZD\n",
       "6   30      D   93  ZA\n",
       "7   33      E   92  ZE"
      ]
     },
     "execution_count": 108,
     "metadata": {},
     "output_type": "execute_result"
    }
   ],
   "source": [
    "dfdata"
   ]
  },
  {
   "cell_type": "markdown",
   "id": "f83260b4-1baf-4f2e-bd9c-e2c62d8a8964",
   "metadata": {},
   "source": [
    "## MinMaxScaler"
   ]
  },
  {
   "cell_type": "code",
   "execution_count": 111,
   "id": "bb772bb4-d0de-4644-a7b0-2c976e549d1d",
   "metadata": {},
   "outputs": [
    {
     "name": "stdout",
     "output_type": "stream",
     "text": [
      "   IDx  Mrk\n",
      "0   12   99\n",
      "1   15   98\n",
      "2   18   97\n",
      "3   21   96\n",
      "4   24   95\n",
      "5   27   94\n",
      "6   30   93\n",
      "7   33   92\n"
     ]
    },
    {
     "data": {
      "text/plain": [
       "array([[0.        , 1.        ],\n",
       "       [0.14285714, 0.85714286],\n",
       "       [0.28571429, 0.71428571],\n",
       "       [0.42857143, 0.57142857],\n",
       "       [0.57142857, 0.42857143],\n",
       "       [0.71428571, 0.28571429],\n",
       "       [0.85714286, 0.14285714],\n",
       "       [1.        , 0.        ]])"
      ]
     },
     "execution_count": 111,
     "metadata": {},
     "output_type": "execute_result"
    }
   ],
   "source": [
    "# get numeric fields only\n",
    "dfdata_num = dfdata.select_dtypes(include=[np.number])\n",
    "print(dfdata_num)\n",
    "\n",
    "from sklearn.preprocessing import MinMaxScaler\n",
    "min_max_scaler = MinMaxScaler()\n",
    "mm_scaled = min_max_scaler.fit_transform(dfdata_num)\n",
    "mm_scaled"
   ]
  },
  {
   "cell_type": "code",
   "execution_count": 116,
   "id": "02957338-50bd-4d9a-b2e5-89e600ddebba",
   "metadata": {},
   "outputs": [
    {
     "data": {
      "text/plain": [
       "array([[-1.        ,  1.        ],\n",
       "       [-0.71428571,  0.71428571],\n",
       "       [-0.42857143,  0.42857143],\n",
       "       [-0.14285714,  0.14285714],\n",
       "       [ 0.14285714, -0.14285714],\n",
       "       [ 0.42857143, -0.42857143],\n",
       "       [ 0.71428571, -0.71428571],\n",
       "       [ 1.        , -1.        ]])"
      ]
     },
     "execution_count": 116,
     "metadata": {},
     "output_type": "execute_result"
    }
   ],
   "source": [
    "min_max_scaler = MinMaxScaler(feature_range=(-1,1))\n",
    "mm_scaled = min_max_scaler.fit_transform(dfdata_num)\n",
    "mm_scaled"
   ]
  },
  {
   "cell_type": "code",
   "execution_count": 121,
   "id": "de8407af-2bf8-4e91-b1ab-a586de85c3d7",
   "metadata": {},
   "outputs": [
    {
     "data": {
      "text/plain": [
       "array([[-1.52752523,  1.52752523],\n",
       "       [-1.09108945,  1.09108945],\n",
       "       [-0.65465367,  0.65465367],\n",
       "       [-0.21821789,  0.21821789],\n",
       "       [ 0.21821789, -0.21821789],\n",
       "       [ 0.65465367, -0.65465367],\n",
       "       [ 1.09108945, -1.09108945],\n",
       "       [ 1.52752523, -1.52752523]])"
      ]
     },
     "execution_count": 121,
     "metadata": {},
     "output_type": "execute_result"
    }
   ],
   "source": [
    "from sklearn.preprocessing import StandardScaler\n",
    "\n",
    "std_scaler = StandardScaler()\n",
    "srd_scaled = std_scaler.fit_transform(dfdata_num)\n",
    "srd_scaled"
   ]
  },
  {
   "cell_type": "code",
   "execution_count": null,
   "id": "75f3204f-8411-4840-b78d-9a381d11658c",
   "metadata": {},
   "outputs": [],
   "source": [
    "### Effect of heavily skewed dataset (long tails)"
   ]
  },
  {
   "cell_type": "code",
   "execution_count": 195,
   "id": "c4275483-773b-4180-8b65-d2542ac3f473",
   "metadata": {},
   "outputs": [],
   "source": [
    "# generate a skewed list\n",
    "samples = 1000000\n",
    "shape, scale = 2., 1. # mean and width\n",
    "skewed_list = list(np.random.standard_gamma(shape, samples))\n",
    "skewed_list.sort()\n"
   ]
  },
  {
   "cell_type": "code",
   "execution_count": 203,
   "id": "57de06c0-2937-43f3-b357-aafdebdd60fb",
   "metadata": {},
   "outputs": [],
   "source": [
    "import scipy.special as sps \n",
    "\n",
    "def plothist(dataset, bins, shape, scale):\n",
    "    count, bins_x, ignored = plt.hist(dataset, bins, density=True)\n",
    "    #y = bins_x**(shape-1) * ((np.exp(-bins_x/scale))/ (sps.gamma(shape) * scale**shape))\n",
    "    #plt.plot(bins_x, y, linewidth=2, color='r')  \n",
    "    plt.show()"
   ]
  },
  {
   "cell_type": "code",
   "execution_count": 204,
   "id": "25e07f3c-cf37-4c14-86fc-0159646c4da5",
   "metadata": {},
   "outputs": [
    {
     "data": {
      "image/png": "[encoded data removed]",
      "text/plain": [
       "<Figure size 640x480 with 1 Axes>"
      ]
     },
     "metadata": {},
     "output_type": "display_data"
    }
   ],
   "source": [
    "plothist(skewed_list, 50, shape, scale)"
   ]
  },
  {
   "cell_type": "markdown",
   "id": "da8bf383-eb6d-42a1-a3aa-aaeee2647ce9",
   "metadata": {},
   "source": [
    "These can be mitgated by taking the log or some ppower of the value and use those instead of the actual data value"
   ]
  },
  {
   "cell_type": "code",
   "execution_count": 209,
   "id": "48cf4f4c-e15a-4f42-ba42-d7647841aee2",
   "metadata": {},
   "outputs": [
    {
     "data": {
      "image/png": "[encoded data removed]",
      "text/plain": [
       "<Figure size 640x480 with 1 Axes>"
      ]
     },
     "metadata": {},
     "output_type": "display_data"
    }
   ],
   "source": [
    "skewed_list_l = np.log(skewed_list)\n",
    "plothist(skewed_list_l, 100, shape, scale)"
   ]
  },
  {
   "cell_type": "code",
   "execution_count": 208,
   "id": "24f293d4-c8f7-4472-983d-9d1f0a8ede5f",
   "metadata": {},
   "outputs": [
    {
     "data": {
      "image/png": "[encoded data removed]",
      "text/plain": [
       "<Figure size 640x480 with 1 Axes>"
      ]
     },
     "metadata": {},
     "output_type": "display_data"
    }
   ],
   "source": [
    "skewed_list_p = np.power(skewed_list, 0.5)\n",
    "plothist(skewed_list_p, 100, shape, scale)"
   ]
  },
  {
   "cell_type": "code",
   "execution_count": null,
   "id": "cf9eedd4-5a47-4f80-80c4-c6d1df36217c",
   "metadata": {},
   "outputs": [],
   "source": []
  }
 ],
 "metadata": {
  "kernelspec": {
   "display_name": "Python 3 (ipykernel)",
   "language": "python",
   "name": "python3"
  },
  "language_info": {
   "codemirror_mode": {
    "name": "ipython",
    "version": 3
   },
   "file_extension": ".py",
   "mimetype": "text/x-python",
   "name": "python",
   "nbconvert_exporter": "python",
   "pygments_lexer": "ipython3",
   "version": "3.10.16"
  }
 },
 "nbformat": 4,
 "nbformat_minor": 5
}
