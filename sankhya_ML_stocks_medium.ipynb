{
  "nbformat": 4,
  "nbformat_minor": 0,
  "metadata": {
    "colab": {
      "provenance": [],
      "include_colab_link": true
    },
    "kernelspec": {
      "name": "python3",
      "display_name": "Python 3"
    },
    "language_info": {
      "name": "python"
    }
  },
  "cells": [
    {
      "cell_type": "markdown",
      "metadata": {
        "id": "view-in-github",
        "colab_type": "text"
      },
      "source": [
        "<a href=\"https://colab.research.google.com/github/macsrc/mac-handson-ml3/blob/main/sankhya_ML_stocks_medium.ipynb\" target=\"_parent\"><img src=\"https://colab.research.google.com/assets/colab-badge.svg\" alt=\"Open In Colab\"/></a>"
      ]
    },
    {
      "cell_type": "markdown",
      "source": [
        "# Stock price prediction using LSTM neural network and Tensorflow\n",
        "What do we need here:\n",
        "1. Load data\n",
        "2. Scale data for machine learning model\n",
        "3. Setup neural network\n",
        "4. Compile model\n",
        "5. Teach neural netowk and fit this\n",
        "6. Use the model for prediction\n",
        "7. Draw the results chart"
      ],
      "metadata": {
        "id": "7UxQjmy0SR02"
      }
    },
    {
      "cell_type": "code",
      "source": [
        "# Requirements\n",
        "!pip install yahoo_fin"
      ],
      "metadata": {
        "id": "VT5lGKHiQ3eQ",
        "outputId": "2de19e3e-7650-403f-855b-87660f48f5a3",
        "colab": {
          "base_uri": "https://localhost:8080/"
        }
      },
      "execution_count": null,
      "outputs": [
        {
          "output_type": "stream",
          "name": "stdout",
          "text": [
            "Collecting yahoo_fin\n",
            "  Downloading yahoo_fin-0.8.9.1-py3-none-any.whl (10 kB)\n",
            "Collecting requests-html (from yahoo_fin)\n",
            "  Downloading requests_html-0.10.0-py3-none-any.whl (13 kB)\n",
            "Collecting feedparser (from yahoo_fin)\n",
            "  Downloading feedparser-6.0.10-py3-none-any.whl (81 kB)\n",
            "\u001b[2K     \u001b[90m━━━━━━━━━━━━━━━━━━━━━━━━━━━━━━━━━━━━━━━━\u001b[0m \u001b[32m81.1/81.1 kB\u001b[0m \u001b[31m2.4 MB/s\u001b[0m eta \u001b[36m0:00:00\u001b[0m\n",
            "\u001b[?25hRequirement already satisfied: requests in /usr/local/lib/python3.10/dist-packages (from yahoo_fin) (2.27.1)\n",
            "Requirement already satisfied: pandas in /usr/local/lib/python3.10/dist-packages (from yahoo_fin) (1.5.3)\n",
            "Collecting sgmllib3k (from feedparser->yahoo_fin)\n",
            "  Downloading sgmllib3k-1.0.0.tar.gz (5.8 kB)\n",
            "  Preparing metadata (setup.py) ... \u001b[?25l\u001b[?25hdone\n",
            "Requirement already satisfied: python-dateutil>=2.8.1 in /usr/local/lib/python3.10/dist-packages (from pandas->yahoo_fin) (2.8.2)\n",
            "Requirement already satisfied: pytz>=2020.1 in /usr/local/lib/python3.10/dist-packages (from pandas->yahoo_fin) (2022.7.1)\n",
            "Requirement already satisfied: numpy>=1.21.0 in /usr/local/lib/python3.10/dist-packages (from pandas->yahoo_fin) (1.22.4)\n",
            "Requirement already satisfied: urllib3<1.27,>=1.21.1 in /usr/local/lib/python3.10/dist-packages (from requests->yahoo_fin) (1.26.16)\n",
            "Requirement already satisfied: certifi>=2017.4.17 in /usr/local/lib/python3.10/dist-packages (from requests->yahoo_fin) (2023.5.7)\n",
            "Requirement already satisfied: charset-normalizer~=2.0.0 in /usr/local/lib/python3.10/dist-packages (from requests->yahoo_fin) (2.0.12)\n",
            "Requirement already satisfied: idna<4,>=2.5 in /usr/local/lib/python3.10/dist-packages (from requests->yahoo_fin) (3.4)\n",
            "Collecting pyquery (from requests-html->yahoo_fin)\n",
            "  Downloading pyquery-2.0.0-py3-none-any.whl (22 kB)\n",
            "Collecting fake-useragent (from requests-html->yahoo_fin)\n",
            "  Downloading fake_useragent-1.1.3-py3-none-any.whl (50 kB)\n",
            "\u001b[2K     \u001b[90m━━━━━━━━━━━━━━━━━━━━━━━━━━━━━━━━━━━━━━━━\u001b[0m \u001b[32m50.5/50.5 kB\u001b[0m \u001b[31m5.0 MB/s\u001b[0m eta \u001b[36m0:00:00\u001b[0m\n",
            "\u001b[?25hCollecting parse (from requests-html->yahoo_fin)\n",
            "  Downloading parse-1.19.1-py2.py3-none-any.whl (18 kB)\n",
            "Collecting bs4 (from requests-html->yahoo_fin)\n",
            "  Downloading bs4-0.0.1.tar.gz (1.1 kB)\n",
            "  Preparing metadata (setup.py) ... \u001b[?25l\u001b[?25hdone\n",
            "Collecting w3lib (from requests-html->yahoo_fin)\n",
            "  Downloading w3lib-2.1.1-py3-none-any.whl (21 kB)\n",
            "Collecting pyppeteer>=0.0.14 (from requests-html->yahoo_fin)\n",
            "  Downloading pyppeteer-1.0.2-py3-none-any.whl (83 kB)\n",
            "\u001b[2K     \u001b[90m━━━━━━━━━━━━━━━━━━━━━━━━━━━━━━━━━━━━━━━━\u001b[0m \u001b[32m83.4/83.4 kB\u001b[0m \u001b[31m4.5 MB/s\u001b[0m eta \u001b[36m0:00:00\u001b[0m\n",
            "\u001b[?25hRequirement already satisfied: appdirs<2.0.0,>=1.4.3 in /usr/local/lib/python3.10/dist-packages (from pyppeteer>=0.0.14->requests-html->yahoo_fin) (1.4.4)\n",
            "Requirement already satisfied: importlib-metadata>=1.4 in /usr/lib/python3/dist-packages (from pyppeteer>=0.0.14->requests-html->yahoo_fin) (4.6.4)\n",
            "Collecting pyee<9.0.0,>=8.1.0 (from pyppeteer>=0.0.14->requests-html->yahoo_fin)\n",
            "  Downloading pyee-8.2.2-py2.py3-none-any.whl (12 kB)\n",
            "Requirement already satisfied: tqdm<5.0.0,>=4.42.1 in /usr/local/lib/python3.10/dist-packages (from pyppeteer>=0.0.14->requests-html->yahoo_fin) (4.65.0)\n",
            "Collecting websockets<11.0,>=10.0 (from pyppeteer>=0.0.14->requests-html->yahoo_fin)\n",
            "  Downloading websockets-10.4-cp310-cp310-manylinux_2_5_x86_64.manylinux1_x86_64.manylinux_2_17_x86_64.manylinux2014_x86_64.whl (106 kB)\n",
            "\u001b[2K     \u001b[90m━━━━━━━━━━━━━━━━━━━━━━━━━━━━━━━━━━━━━━━\u001b[0m \u001b[32m106.8/106.8 kB\u001b[0m \u001b[31m7.0 MB/s\u001b[0m eta \u001b[36m0:00:00\u001b[0m\n",
            "\u001b[?25hRequirement already satisfied: six>=1.5 in /usr/local/lib/python3.10/dist-packages (from python-dateutil>=2.8.1->pandas->yahoo_fin) (1.16.0)\n",
            "Requirement already satisfied: beautifulsoup4 in /usr/local/lib/python3.10/dist-packages (from bs4->requests-html->yahoo_fin) (4.11.2)\n",
            "Requirement already satisfied: lxml>=2.1 in /usr/local/lib/python3.10/dist-packages (from pyquery->requests-html->yahoo_fin) (4.9.3)\n",
            "Collecting cssselect>=1.2.0 (from pyquery->requests-html->yahoo_fin)\n",
            "  Downloading cssselect-1.2.0-py2.py3-none-any.whl (18 kB)\n",
            "Requirement already satisfied: soupsieve>1.2 in /usr/local/lib/python3.10/dist-packages (from beautifulsoup4->bs4->requests-html->yahoo_fin) (2.4.1)\n",
            "Building wheels for collected packages: bs4, sgmllib3k\n",
            "  Building wheel for bs4 (setup.py) ... \u001b[?25l\u001b[?25hdone\n",
            "  Created wheel for bs4: filename=bs4-0.0.1-py3-none-any.whl size=1257 sha256=a6b63c4f0087b68aabab46566c0098d8ae116a9dafef20fb7e05504fd6be2794\n",
            "  Stored in directory: /root/.cache/pip/wheels/25/42/45/b773edc52acb16cd2db4cf1a0b47117e2f69bb4eb300ed0e70\n",
            "  Building wheel for sgmllib3k (setup.py) ... \u001b[?25l\u001b[?25hdone\n",
            "  Created wheel for sgmllib3k: filename=sgmllib3k-1.0.0-py3-none-any.whl size=6046 sha256=06c402856d8ee02fc71245899186b012534e57d50c5c0972624d97c0280a94f5\n",
            "  Stored in directory: /root/.cache/pip/wheels/f0/69/93/a47e9d621be168e9e33c7ce60524393c0b92ae83cf6c6e89c5\n",
            "Successfully built bs4 sgmllib3k\n",
            "Installing collected packages: sgmllib3k, pyee, parse, fake-useragent, websockets, w3lib, feedparser, cssselect, pyquery, pyppeteer, bs4, requests-html, yahoo_fin\n",
            "Successfully installed bs4-0.0.1 cssselect-1.2.0 fake-useragent-1.1.3 feedparser-6.0.10 parse-1.19.1 pyee-8.2.2 pyppeteer-1.0.2 pyquery-2.0.0 requests-html-0.10.0 sgmllib3k-1.0.0 w3lib-2.1.1 websockets-10.4 yahoo_fin-0.8.9.1\n"
          ]
        }
      ]
    },
    {
      "cell_type": "code",
      "execution_count": null,
      "metadata": {
        "id": "sqKJF5k5BVGi"
      },
      "outputs": [],
      "source": [
        "import numpy as np\n",
        "import time as tm\n",
        "import datetime as dt\n",
        "import tensorflow as tf\n",
        "\n",
        "# Data preparation\n",
        "from yahoo_fin import stock_info as yf\n",
        "from sklearn.preprocessing import MinMaxScaler\n",
        "from collections import deque\n",
        "\n",
        "# AI\n",
        "from keras.models import Sequential\n",
        "from keras.layers import Dense, LSTM, Dropout\n",
        "\n",
        "# Graphics library\n",
        "import matplotlib.pyplot as plt"
      ]
    },
    {
      "cell_type": "code",
      "source": [
        "# SETTINGS\n",
        "\n",
        "# Window size or the sequence length, 7 (1 week)\n",
        "N_STEPS = 7\n",
        "\n",
        "# Lookup steps, 1 is the next day, 3 = after tomorrow\n",
        "LOOKUP_STEPS = [1, 2, 3]\n",
        "\n",
        "# Stock ticker, GOOGL, GRASIM.NS, SBIN.NS\n",
        "STOCK = 'SBIN.NS'\n",
        "\n",
        "# Current date\n",
        "date_now = tm.strftime('%Y-%m-%d')\n",
        "date_3_years_back = (dt.date.today() - dt.timedelta(days=1104)).strftime('%Y-%m-%d')"
      ],
      "metadata": {
        "id": "rQsQgq4dBgBx"
      },
      "execution_count": null,
      "outputs": []
    },
    {
      "cell_type": "code",
      "source": [
        "# LOAD DATA\n",
        "# from yahoo_fin\n",
        "# for 1104 bars with interval = 1d (one day)\n",
        "init_df = yf.get_data(\n",
        "    STOCK,\n",
        "    start_date=date_3_years_back,\n",
        "    end_date=date_now,\n",
        "    interval='1d')"
      ],
      "metadata": {
        "id": "TIizkLaGWk2J"
      },
      "execution_count": null,
      "outputs": []
    },
    {
      "cell_type": "code",
      "source": [
        "init_df.tail(12)"
      ],
      "metadata": {
        "colab": {
          "base_uri": "https://localhost:8080/",
          "height": 426
        },
        "id": "9XHBdkvIYE3k",
        "outputId": "a402bd08-016a-49f3-ef91-6cc087dff87d"
      },
      "execution_count": null,
      "outputs": [
        {
          "output_type": "execute_result",
          "data": {
            "text/plain": [
              "                  open        high         low       close    adjclose  \\\n",
              "2023-07-10  594.650024  599.799988  590.250000  592.599976  592.599976   \n",
              "2023-07-11  595.000000  595.950012  587.349976  588.549988  588.549988   \n",
              "2023-07-12  589.000000  594.500000  588.200012  589.250000  589.250000   \n",
              "2023-07-13  594.900024  598.000000  583.349976  585.650024  585.650024   \n",
              "2023-07-14  586.750000  591.299988  580.700012  584.400024  584.400024   \n",
              "2023-07-17  587.000000  602.849976  584.200012  601.099976  601.099976   \n",
              "2023-07-18  603.049988  604.049988  588.750000  592.349976  592.349976   \n",
              "2023-07-19  594.650024  602.400024  592.000000  601.450012  601.450012   \n",
              "2023-07-20  601.400024  610.799988  598.750000  610.049988  610.049988   \n",
              "2023-07-21  610.000000  619.500000  609.000000  615.099976  615.099976   \n",
              "2023-07-24  615.049988  621.900024  614.299988  617.650024  617.650024   \n",
              "2023-07-25  621.799988  621.799988  604.200012  609.599976  609.599976   \n",
              "\n",
              "              volume   ticker  \n",
              "2023-07-10  11417363  SBIN.NS  \n",
              "2023-07-11  13221177  SBIN.NS  \n",
              "2023-07-12  16029716  SBIN.NS  \n",
              "2023-07-13  20024503  SBIN.NS  \n",
              "2023-07-14  12190152  SBIN.NS  \n",
              "2023-07-17  19378986  SBIN.NS  \n",
              "2023-07-18  25757209  SBIN.NS  \n",
              "2023-07-19  17556585  SBIN.NS  \n",
              "2023-07-20  34038351  SBIN.NS  \n",
              "2023-07-21  21040281  SBIN.NS  \n",
              "2023-07-24  11756364  SBIN.NS  \n",
              "2023-07-25  18503305  SBIN.NS  "
            ],
            "text/html": [
              "\n",
              "\n",
              "  <div id=\"df-1e712e03-078d-49c2-9a83-41d94061cfcd\">\n",
              "    <div class=\"colab-df-container\">\n",
              "      <div>\n",
              "<style scoped>\n",
              "    .dataframe tbody tr th:only-of-type {\n",
              "        vertical-align: middle;\n",
              "    }\n",
              "\n",
              "    .dataframe tbody tr th {\n",
              "        vertical-align: top;\n",
              "    }\n",
              "\n",
              "    .dataframe thead th {\n",
              "        text-align: right;\n",
              "    }\n",
              "</style>\n",
              "<table border=\"1\" class=\"dataframe\">\n",
              "  <thead>\n",
              "    <tr style=\"text-align: right;\">\n",
              "      <th></th>\n",
              "      <th>open</th>\n",
              "      <th>high</th>\n",
              "      <th>low</th>\n",
              "      <th>close</th>\n",
              "      <th>adjclose</th>\n",
              "      <th>volume</th>\n",
              "      <th>ticker</th>\n",
              "    </tr>\n",
              "  </thead>\n",
              "  <tbody>\n",
              "    <tr>\n",
              "      <th>2023-07-10</th>\n",
              "      <td>594.650024</td>\n",
              "      <td>599.799988</td>\n",
              "      <td>590.250000</td>\n",
              "      <td>592.599976</td>\n",
              "      <td>592.599976</td>\n",
              "      <td>11417363</td>\n",
              "      <td>SBIN.NS</td>\n",
              "    </tr>\n",
              "    <tr>\n",
              "      <th>2023-07-11</th>\n",
              "      <td>595.000000</td>\n",
              "      <td>595.950012</td>\n",
              "      <td>587.349976</td>\n",
              "      <td>588.549988</td>\n",
              "      <td>588.549988</td>\n",
              "      <td>13221177</td>\n",
              "      <td>SBIN.NS</td>\n",
              "    </tr>\n",
              "    <tr>\n",
              "      <th>2023-07-12</th>\n",
              "      <td>589.000000</td>\n",
              "      <td>594.500000</td>\n",
              "      <td>588.200012</td>\n",
              "      <td>589.250000</td>\n",
              "      <td>589.250000</td>\n",
              "      <td>16029716</td>\n",
              "      <td>SBIN.NS</td>\n",
              "    </tr>\n",
              "    <tr>\n",
              "      <th>2023-07-13</th>\n",
              "      <td>594.900024</td>\n",
              "      <td>598.000000</td>\n",
              "      <td>583.349976</td>\n",
              "      <td>585.650024</td>\n",
              "      <td>585.650024</td>\n",
              "      <td>20024503</td>\n",
              "      <td>SBIN.NS</td>\n",
              "    </tr>\n",
              "    <tr>\n",
              "      <th>2023-07-14</th>\n",
              "      <td>586.750000</td>\n",
              "      <td>591.299988</td>\n",
              "      <td>580.700012</td>\n",
              "      <td>584.400024</td>\n",
              "      <td>584.400024</td>\n",
              "      <td>12190152</td>\n",
              "      <td>SBIN.NS</td>\n",
              "    </tr>\n",
              "    <tr>\n",
              "      <th>2023-07-17</th>\n",
              "      <td>587.000000</td>\n",
              "      <td>602.849976</td>\n",
              "      <td>584.200012</td>\n",
              "      <td>601.099976</td>\n",
              "      <td>601.099976</td>\n",
              "      <td>19378986</td>\n",
              "      <td>SBIN.NS</td>\n",
              "    </tr>\n",
              "    <tr>\n",
              "      <th>2023-07-18</th>\n",
              "      <td>603.049988</td>\n",
              "      <td>604.049988</td>\n",
              "      <td>588.750000</td>\n",
              "      <td>592.349976</td>\n",
              "      <td>592.349976</td>\n",
              "      <td>25757209</td>\n",
              "      <td>SBIN.NS</td>\n",
              "    </tr>\n",
              "    <tr>\n",
              "      <th>2023-07-19</th>\n",
              "      <td>594.650024</td>\n",
              "      <td>602.400024</td>\n",
              "      <td>592.000000</td>\n",
              "      <td>601.450012</td>\n",
              "      <td>601.450012</td>\n",
              "      <td>17556585</td>\n",
              "      <td>SBIN.NS</td>\n",
              "    </tr>\n",
              "    <tr>\n",
              "      <th>2023-07-20</th>\n",
              "      <td>601.400024</td>\n",
              "      <td>610.799988</td>\n",
              "      <td>598.750000</td>\n",
              "      <td>610.049988</td>\n",
              "      <td>610.049988</td>\n",
              "      <td>34038351</td>\n",
              "      <td>SBIN.NS</td>\n",
              "    </tr>\n",
              "    <tr>\n",
              "      <th>2023-07-21</th>\n",
              "      <td>610.000000</td>\n",
              "      <td>619.500000</td>\n",
              "      <td>609.000000</td>\n",
              "      <td>615.099976</td>\n",
              "      <td>615.099976</td>\n",
              "      <td>21040281</td>\n",
              "      <td>SBIN.NS</td>\n",
              "    </tr>\n",
              "    <tr>\n",
              "      <th>2023-07-24</th>\n",
              "      <td>615.049988</td>\n",
              "      <td>621.900024</td>\n",
              "      <td>614.299988</td>\n",
              "      <td>617.650024</td>\n",
              "      <td>617.650024</td>\n",
              "      <td>11756364</td>\n",
              "      <td>SBIN.NS</td>\n",
              "    </tr>\n",
              "    <tr>\n",
              "      <th>2023-07-25</th>\n",
              "      <td>621.799988</td>\n",
              "      <td>621.799988</td>\n",
              "      <td>604.200012</td>\n",
              "      <td>609.599976</td>\n",
              "      <td>609.599976</td>\n",
              "      <td>18503305</td>\n",
              "      <td>SBIN.NS</td>\n",
              "    </tr>\n",
              "  </tbody>\n",
              "</table>\n",
              "</div>\n",
              "      <button class=\"colab-df-convert\" onclick=\"convertToInteractive('df-1e712e03-078d-49c2-9a83-41d94061cfcd')\"\n",
              "              title=\"Convert this dataframe to an interactive table.\"\n",
              "              style=\"display:none;\">\n",
              "\n",
              "  <svg xmlns=\"http://www.w3.org/2000/svg\" height=\"24px\"viewBox=\"0 0 24 24\"\n",
              "       width=\"24px\">\n",
              "    <path d=\"M0 0h24v24H0V0z\" fill=\"none\"/>\n",
              "    <path d=\"M18.56 5.44l.94 2.06.94-2.06 2.06-.94-2.06-.94-.94-2.06-.94 2.06-2.06.94zm-11 1L8.5 8.5l.94-2.06 2.06-.94-2.06-.94L8.5 2.5l-.94 2.06-2.06.94zm10 10l.94 2.06.94-2.06 2.06-.94-2.06-.94-.94-2.06-.94 2.06-2.06.94z\"/><path d=\"M17.41 7.96l-1.37-1.37c-.4-.4-.92-.59-1.43-.59-.52 0-1.04.2-1.43.59L10.3 9.45l-7.72 7.72c-.78.78-.78 2.05 0 2.83L4 21.41c.39.39.9.59 1.41.59.51 0 1.02-.2 1.41-.59l7.78-7.78 2.81-2.81c.8-.78.8-2.07 0-2.86zM5.41 20L4 18.59l7.72-7.72 1.47 1.35L5.41 20z\"/>\n",
              "  </svg>\n",
              "      </button>\n",
              "\n",
              "\n",
              "\n",
              "    <div id=\"df-b1b35a99-53eb-4d93-9243-93aa30cfd324\">\n",
              "      <button class=\"colab-df-quickchart\" onclick=\"quickchart('df-b1b35a99-53eb-4d93-9243-93aa30cfd324')\"\n",
              "              title=\"Suggest charts.\"\n",
              "              style=\"display:none;\">\n",
              "\n",
              "<svg xmlns=\"http://www.w3.org/2000/svg\" height=\"24px\"viewBox=\"0 0 24 24\"\n",
              "     width=\"24px\">\n",
              "    <g>\n",
              "        <path d=\"M19 3H5c-1.1 0-2 .9-2 2v14c0 1.1.9 2 2 2h14c1.1 0 2-.9 2-2V5c0-1.1-.9-2-2-2zM9 17H7v-7h2v7zm4 0h-2V7h2v10zm4 0h-2v-4h2v4z\"/>\n",
              "    </g>\n",
              "</svg>\n",
              "      </button>\n",
              "    </div>\n",
              "\n",
              "<style>\n",
              "  .colab-df-quickchart {\n",
              "    background-color: #E8F0FE;\n",
              "    border: none;\n",
              "    border-radius: 50%;\n",
              "    cursor: pointer;\n",
              "    display: none;\n",
              "    fill: #1967D2;\n",
              "    height: 32px;\n",
              "    padding: 0 0 0 0;\n",
              "    width: 32px;\n",
              "  }\n",
              "\n",
              "  .colab-df-quickchart:hover {\n",
              "    background-color: #E2EBFA;\n",
              "    box-shadow: 0px 1px 2px rgba(60, 64, 67, 0.3), 0px 1px 3px 1px rgba(60, 64, 67, 0.15);\n",
              "    fill: #174EA6;\n",
              "  }\n",
              "\n",
              "  [theme=dark] .colab-df-quickchart {\n",
              "    background-color: #3B4455;\n",
              "    fill: #D2E3FC;\n",
              "  }\n",
              "\n",
              "  [theme=dark] .colab-df-quickchart:hover {\n",
              "    background-color: #434B5C;\n",
              "    box-shadow: 0px 1px 3px 1px rgba(0, 0, 0, 0.15);\n",
              "    filter: drop-shadow(0px 1px 2px rgba(0, 0, 0, 0.3));\n",
              "    fill: #FFFFFF;\n",
              "  }\n",
              "</style>\n",
              "\n",
              "    <script>\n",
              "      async function quickchart(key) {\n",
              "        const containerElement = document.querySelector('#' + key);\n",
              "        const charts = await google.colab.kernel.invokeFunction(\n",
              "            'suggestCharts', [key], {});\n",
              "      }\n",
              "    </script>\n",
              "\n",
              "      <script>\n",
              "\n",
              "function displayQuickchartButton(domScope) {\n",
              "  let quickchartButtonEl =\n",
              "    domScope.querySelector('#df-b1b35a99-53eb-4d93-9243-93aa30cfd324 button.colab-df-quickchart');\n",
              "  quickchartButtonEl.style.display =\n",
              "    google.colab.kernel.accessAllowed ? 'block' : 'none';\n",
              "}\n",
              "\n",
              "        displayQuickchartButton(document);\n",
              "      </script>\n",
              "      <style>\n",
              "    .colab-df-container {\n",
              "      display:flex;\n",
              "      flex-wrap:wrap;\n",
              "      gap: 12px;\n",
              "    }\n",
              "\n",
              "    .colab-df-convert {\n",
              "      background-color: #E8F0FE;\n",
              "      border: none;\n",
              "      border-radius: 50%;\n",
              "      cursor: pointer;\n",
              "      display: none;\n",
              "      fill: #1967D2;\n",
              "      height: 32px;\n",
              "      padding: 0 0 0 0;\n",
              "      width: 32px;\n",
              "    }\n",
              "\n",
              "    .colab-df-convert:hover {\n",
              "      background-color: #E2EBFA;\n",
              "      box-shadow: 0px 1px 2px rgba(60, 64, 67, 0.3), 0px 1px 3px 1px rgba(60, 64, 67, 0.15);\n",
              "      fill: #174EA6;\n",
              "    }\n",
              "\n",
              "    [theme=dark] .colab-df-convert {\n",
              "      background-color: #3B4455;\n",
              "      fill: #D2E3FC;\n",
              "    }\n",
              "\n",
              "    [theme=dark] .colab-df-convert:hover {\n",
              "      background-color: #434B5C;\n",
              "      box-shadow: 0px 1px 3px 1px rgba(0, 0, 0, 0.15);\n",
              "      filter: drop-shadow(0px 1px 2px rgba(0, 0, 0, 0.3));\n",
              "      fill: #FFFFFF;\n",
              "    }\n",
              "  </style>\n",
              "\n",
              "      <script>\n",
              "        const buttonEl =\n",
              "          document.querySelector('#df-1e712e03-078d-49c2-9a83-41d94061cfcd button.colab-df-convert');\n",
              "        buttonEl.style.display =\n",
              "          google.colab.kernel.accessAllowed ? 'block' : 'none';\n",
              "\n",
              "        async function convertToInteractive(key) {\n",
              "          const element = document.querySelector('#df-1e712e03-078d-49c2-9a83-41d94061cfcd');\n",
              "          const dataTable =\n",
              "            await google.colab.kernel.invokeFunction('convertToInteractive',\n",
              "                                                     [key], {});\n",
              "          if (!dataTable) return;\n",
              "\n",
              "          const docLinkHtml = 'Like what you see? Visit the ' +\n",
              "            '<a target=\"_blank\" href=https://colab.research.google.com/notebooks/data_table.ipynb>data table notebook</a>'\n",
              "            + ' to learn more about interactive tables.';\n",
              "          element.innerHTML = '';\n",
              "          dataTable['output_type'] = 'display_data';\n",
              "          await google.colab.output.renderOutput(dataTable, element);\n",
              "          const docLink = document.createElement('div');\n",
              "          docLink.innerHTML = docLinkHtml;\n",
              "          element.appendChild(docLink);\n",
              "        }\n",
              "      </script>\n",
              "    </div>\n",
              "  </div>\n"
            ]
          },
          "metadata": {},
          "execution_count": 8
        }
      ]
    },
    {
      "cell_type": "code",
      "source": [
        "# remove columns which our neural network will not use\n",
        "init_df = init_df.drop(['open', 'high', 'low', 'adjclose', 'ticker', 'volume'], axis=1)\n",
        "# create the column 'date' based on index column\n",
        "init_df['date'] = init_df.index"
      ],
      "metadata": {
        "id": "vTupVg2qX9M-"
      },
      "execution_count": null,
      "outputs": []
    },
    {
      "cell_type": "code",
      "source": [
        "init_df"
      ],
      "metadata": {
        "id": "BGbfM6s-bgTD"
      },
      "execution_count": null,
      "outputs": []
    },
    {
      "cell_type": "code",
      "source": [
        "# Let's preliminary see our data on the graphic\n",
        "plt.style.use(style='ggplot')\n",
        "plt.figure(figsize=(16,10))\n",
        "plt.plot(init_df['close'][-200:])\n",
        "plt.xlabel('days')\n",
        "plt.ylabel('price')\n",
        "plt.legend([f'Actual price for {STOCK}'])\n",
        "plt.show()"
      ],
      "metadata": {
        "id": "4Slwrl5_ZGmG"
      },
      "execution_count": null,
      "outputs": []
    },
    {
      "cell_type": "code",
      "source": [
        "# Scale data for ML engine\n",
        "scaler = MinMaxScaler()\n",
        "init_df['scaled_close'] = scaler.fit_transform(np.expand_dims(init_df['close'].values, axis=1))"
      ],
      "metadata": {
        "id": "Vr33TC6wYAO0"
      },
      "execution_count": null,
      "outputs": []
    },
    {
      "cell_type": "code",
      "source": [
        "init_df"
      ],
      "metadata": {
        "colab": {
          "base_uri": "https://localhost:8080/",
          "height": 166
        },
        "id": "MXqyOqWncpE7",
        "outputId": "50367fc0-d4a1-43df-df0b-0024ae37c894"
      },
      "execution_count": null,
      "outputs": [
        {
          "output_type": "error",
          "ename": "NameError",
          "evalue": "ignored",
          "traceback": [
            "\u001b[0;31m---------------------------------------------------------------------------\u001b[0m",
            "\u001b[0;31mNameError\u001b[0m                                 Traceback (most recent call last)",
            "\u001b[0;32m<ipython-input-1-1be703e8ddd1>\u001b[0m in \u001b[0;36m<cell line: 1>\u001b[0;34m()\u001b[0m\n\u001b[0;32m----> 1\u001b[0;31m \u001b[0minit_df\u001b[0m\u001b[0;34m\u001b[0m\u001b[0;34m\u001b[0m\u001b[0m\n\u001b[0m",
            "\u001b[0;31mNameError\u001b[0m: name 'init_df' is not defined"
          ]
        }
      ]
    },
    {
      "cell_type": "code",
      "source": [
        "def PrepareData(days):\n",
        "  df = init_df.copy()\n",
        "  df['future'] = df['scaled_close'].shift(-days)\n",
        "  last_sequence = np.array(df[['scaled_close']].tail(days))\n",
        "  df.dropna(inplace=True)\n",
        "  sequence_data = []\n",
        "  sequences = deque(maxlen=N_STEPS)\n",
        "\n",
        "  for entry, target in zip(df[['scaled_close'] + ['date']].values, df['future'].values):\n",
        "      sequences.append(entry)\n",
        "      if len(sequences) == N_STEPS:\n",
        "          sequence_data.append([np.array(sequences), target])\n",
        "\n",
        "  last_sequence = list([s[:len(['scaled_close'])] for s in sequences]) + list(last_sequence)\n",
        "  last_sequence = np.array(last_sequence).astype(np.float32)\n",
        "\n",
        "  # construct the X's and Y's\n",
        "  X, Y = [], []\n",
        "  for seq, target in sequence_data:\n",
        "      X.append(seq)\n",
        "      Y.append(target)\n",
        "\n",
        "  # convert to numpy arrays\n",
        "  X = np.array(X)\n",
        "  Y = np.array(Y)\n",
        "\n",
        "  return df, last_sequence, X, Y"
      ],
      "metadata": {
        "id": "6NOQVoJJgWEW"
      },
      "execution_count": null,
      "outputs": []
    },
    {
      "cell_type": "code",
      "source": [],
      "metadata": {
        "id": "zCOM0ANv1DdM"
      },
      "execution_count": null,
      "outputs": []
    },
    {
      "cell_type": "code",
      "source": [
        "PrepareData(3) # 3 days"
      ],
      "metadata": {
        "id": "g4hDLKlvlRBx"
      },
      "execution_count": null,
      "outputs": []
    },
    {
      "cell_type": "code",
      "source": [
        "def GetTrainedModel(x_train, y_train):\n",
        "  model = Sequential()\n",
        "  model.add(LSTM(60, return_sequences=True, input_shape=(N_STEPS, len(['scaled_close']))))\n",
        "  model.add(Dropout(0.3))\n",
        "  model.add(LSTM(120, return_sequences=False))\n",
        "  model.add(Dropout(0.3))\n",
        "  model.add(Dense(20))\n",
        "  model.add(Dense(1))\n",
        "\n",
        "  BATCH_SIZE = 8\n",
        "  EPOCHS = 80\n",
        "\n",
        "  model.compile(loss='mean_squared_error', optimizer='adam')\n",
        "\n",
        "  model.fit(x_train, y_train,\n",
        "            batch_size=BATCH_SIZE,\n",
        "            epochs=EPOCHS,\n",
        "            verbose=1)\n",
        "\n",
        "  model.summary()\n",
        "\n",
        "  return model"
      ],
      "metadata": {
        "id": "vYsFwAvTljZi"
      },
      "execution_count": null,
      "outputs": []
    },
    {
      "cell_type": "code",
      "source": [
        "# GET PREDICTIONS\n",
        "predictions = []\n",
        "\n",
        "for step in LOOKUP_STEPS:\n",
        "  df, last_sequence, x_train, y_train = PrepareData(step)\n",
        "  x_train = x_train[:, :, :len(['scaled_close'])].astype(np.float32)\n",
        "\n",
        "  model = GetTrainedModel(x_train, y_train)\n",
        "\n",
        "  last_sequence = last_sequence[-N_STEPS:]\n",
        "  last_sequence = np.expand_dims(last_sequence, axis=0)\n",
        "  prediction = model.predict(last_sequence)\n",
        "  predicted_price = scaler.inverse_transform(prediction)[0][0]\n",
        "\n",
        "  predictions.append(round(float(predicted_price), 2))"
      ],
      "metadata": {
        "id": "7KnEx3LGrXz1"
      },
      "execution_count": null,
      "outputs": []
    },
    {
      "cell_type": "code",
      "source": [
        "if bool(predictions) == True and len(predictions) > 0:\n",
        "  predictions_list = [str(d)+'$' for d in predictions]\n",
        "  predictions_str = ', '.join(predictions_list)\n",
        "  message = f'{STOCK} prediction for upcoming 3 days ({predictions_str})'\n",
        "\n",
        "  print(message)"
      ],
      "metadata": {
        "id": "etHrM_iAruod"
      },
      "execution_count": null,
      "outputs": []
    },
    {
      "cell_type": "code",
      "source": [
        "# Execute model for the whole history range\n",
        "copy_df = init_df.copy()\n",
        "y_predicted = model.predict(x_train)\n",
        "y_predicted_transformed = np.squeeze(scaler.inverse_transform(y_predicted))\n",
        "first_seq = scaler.inverse_transform(np.expand_dims(y_train[:6], axis=1))\n",
        "last_seq = scaler.inverse_transform(np.expand_dims(y_train[-3:], axis=1))\n",
        "y_predicted_transformed = np.append(first_seq, y_predicted_transformed)\n",
        "y_predicted_transformed = np.append(y_predicted_transformed, last_seq)\n",
        "copy_df[f'predicted_close'] = y_predicted_transformed"
      ],
      "metadata": {
        "id": "OgOu2cWHF7vd"
      },
      "execution_count": null,
      "outputs": []
    },
    {
      "cell_type": "code",
      "source": [
        "copy_df"
      ],
      "metadata": {
        "id": "hIlJk-LZU6w0"
      },
      "execution_count": null,
      "outputs": []
    },
    {
      "cell_type": "code",
      "source": [
        "# Add predicted results to the table\n",
        "date_now = dt.date.today()\n",
        "date_tomorrow = dt.date.today() + dt.timedelta(days=1)\n",
        "date_after_tomorrow = dt.date.today() + dt.timedelta(days=2)\n",
        "\n",
        "copy_df.loc[date_now] = [predictions[0], f'{date_now}', 0, 0]\n",
        "copy_df.loc[date_tomorrow] = [predictions[1], f'{date_tomorrow}', 0, 0]\n",
        "copy_df.loc[date_after_tomorrow] = [predictions[2], f'{date_after_tomorrow}', 0, 0]"
      ],
      "metadata": {
        "id": "SO3erc8IICAw"
      },
      "execution_count": null,
      "outputs": []
    },
    {
      "cell_type": "code",
      "source": [
        "# Result chart\n",
        "plt.style.use(style='ggplot')\n",
        "plt.figure(figsize=(16,10))\n",
        "plt.plot(copy_df['close'][-150:].head(147))\n",
        "plt.plot(copy_df['predicted_close'][-150:].head(147), linewidth=1, linestyle='dashed')\n",
        "plt.plot(copy_df['close'][-150:].tail(4))\n",
        "plt.xlabel('days')\n",
        "plt.ylabel('price')\n",
        "plt.legend([f'Actual price for {STOCK}',\n",
        "            f'Predicted price for {STOCK}',\n",
        "            f'Predicted price for future 3 days'])\n",
        "plt.show()"
      ],
      "metadata": {
        "id": "s4LwHNmWBt3O"
      },
      "execution_count": null,
      "outputs": []
    }
  ]
}